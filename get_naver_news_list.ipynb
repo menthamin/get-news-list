{
 "cells": [
  {
   "cell_type": "markdown",
   "source": [
    "# Naver Search API\n",
    "- reference: https://developers.naver.com/docs/serviceapi/search/news/news.md#%EB%89%B4%EC%8A%A4-%EA%B2%80%EC%83%89-api-%EB%A0%88%ED%8D%BC%EB%9F%B0%EC%8A%A4"
   ],
   "metadata": {
    "collapsed": false,
    "pycharm": {
     "name": "#%% md\n"
    }
   }
  },
  {
   "cell_type": "code",
   "execution_count": 2,
   "outputs": [
    {
     "name": "stdout",
     "output_type": "stream",
     "text": [
      "202210070000\n"
     ]
    },
    {
     "name": "stderr",
     "output_type": "stream",
     "text": [
      "100%|██████████| 100/100 [00:32<00:00,  3.07it/s]\n",
      "100%|██████████| 100/100 [00:30<00:00,  3.30it/s]\n"
     ]
    }
   ],
   "source": [
    "import os\n",
    "import requests\n",
    "import pandas as pd\n",
    "from dateutil.parser import parse\n",
    "import datetime\n",
    "from tqdm import tqdm\n",
    "from bs4 import BeautifulSoup\n",
    "from dotenv import load_dotenv\n",
    "\n",
    "\n",
    "# Naver Search API Key\n",
    "load_dotenv()\n",
    "client_id = os.environ.get(\"client_id\")\n",
    "client_secret = os.environ.get(\"client_secret\")\n",
    "url = \"https://openapi.naver.com/v1/search/news.json\"\n",
    "headers = {\n",
    "    \"X-Naver-Client-Id\": client_id,\n",
    "    \"X-Naver-Client-Secret\": client_secret\n",
    "}\n",
    "\n",
    "words_list = [\"하나대체\", \"하나 대체\"]\n",
    "# words_list = [\"아리사\"]\n",
    "\n",
    "KST = datetime.timezone(datetime.timedelta(hours=9))\n",
    "now_date_obj = datetime.datetime.combine(datetime.date.today(), datetime.datetime.min.time(), tzinfo=KST)\n",
    "now_date_obj = now_date_obj - datetime.timedelta(days=5, hours=0)\n",
    "now_date_str = datetime.datetime.strftime(now_date_obj, \"%Y%m%d%H%M\")\n",
    "print(now_date_str)\n",
    "\"\"\"\n",
    "날짜 사용 케이스\n",
    "now_date_obj = now_date_obj - datetime.timedelta(days=0, hours=6)  # days=0, hours=6: 전일 18시 이후\n",
    "now_date_obj = now_date_obj - datetime.timedelta(days=0, hours=0)  # days=0, hours=0: 당일 00시 이후\n",
    "\"\"\"\n",
    "\n",
    "\n",
    "for word in words_list:\n",
    "\n",
    "    df = pd.DataFrame()\n",
    "\n",
    "    for page in tqdm(range(1, 101)):\n",
    "        params = {\n",
    "            \"query\": word,  # 네이버 기사 검색 값\n",
    "            \"display\": \"100\",  # 페이지당 출력 개수: 범위 1~100\n",
    "            \"start\": page,  # 페이지 번호: 범위 1~100(최대 100페이지 까지 조회 가능)\n",
    "            \"sort\": \"sim\"  # sort: sim: 정확도순 정렬(기본), date: 날짜순 정렬\n",
    "        }\n",
    "\n",
    "        response = requests.get(url, headers=headers, params=params)\n",
    "        data = response.json()\n",
    "\n",
    "        temp_df = pd.DataFrame(data[\"items\"])\n",
    "        temp_df.pubDate = [parse(pub_date) for pub_date in temp_df.pubDate]\n",
    "        temp_df = temp_df[temp_df.pubDate >= now_date_obj]\n",
    "        df = pd.concat([df, temp_df])\n",
    "\n",
    "    filtered_df = df[df[\"title\"].str.contains(word) | df[\"description\"].str.contains(word)]\n",
    "    save_columns_list = [\"title\", \"description\", \"originallink\", \"pubDate\"]\n",
    "    rename_columns_dict = {\n",
    "        \"title\": \"제목\",\n",
    "        \"description\": \"본문\",\n",
    "        \"originallink\": \"url\",\n",
    "        \"pubDate\": \"발행일\"\n",
    "    }\n",
    "\n",
    "    filtered_df = filtered_df[save_columns_list]\n",
    "    filtered_df.title = [BeautifulSoup(title).text for title in filtered_df.title]\n",
    "    filtered_df.description = [BeautifulSoup(description).text for description in filtered_df.description]  # html.unescape(text)\n",
    "    filtered_df.rename(columns=rename_columns_dict, inplace=True)\n",
    "    filtered_df.drop_duplicates(inplace=True)\n",
    "    filtered_df.sort_values(by=[\"발행일\"], ascending=False, inplace=True)\n",
    "\n",
    "    filtered_df.to_csv(f\"news_data/{now_date_str}_{word}.csv\", index=False, encoding=\"utf8\")"
   ],
   "metadata": {
    "collapsed": false,
    "pycharm": {
     "name": "#%%\n"
    }
   }
  }
 ],
 "metadata": {
  "kernelspec": {
   "display_name": "Python 3",
   "language": "python",
   "name": "python3"
  },
  "language_info": {
   "codemirror_mode": {
    "name": "ipython",
    "version": 2
   },
   "file_extension": ".py",
   "mimetype": "text/x-python",
   "name": "python",
   "nbconvert_exporter": "python",
   "pygments_lexer": "ipython2",
   "version": "2.7.6"
  }
 },
 "nbformat": 4,
 "nbformat_minor": 0
}